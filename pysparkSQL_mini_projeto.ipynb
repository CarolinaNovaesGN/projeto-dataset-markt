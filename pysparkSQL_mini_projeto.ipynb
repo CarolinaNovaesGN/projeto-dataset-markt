{
  "nbformat": 4,
  "nbformat_minor": 0,
  "metadata": {
    "colab": {
      "name": "pysparkSQL-mini-projeto.ipynb",
      "provenance": [],
      "authorship_tag": "ABX9TyMU0Gv/QV68CQ/SanGX5+i1",
      "include_colab_link": true
    },
    "kernelspec": {
      "name": "python3",
      "display_name": "Python 3"
    },
    "language_info": {
      "name": "python"
    }
  },
  "cells": [
    {
      "cell_type": "markdown",
      "metadata": {
        "id": "view-in-github",
        "colab_type": "text"
      },
      "source": [
        "<a href=\"https://colab.research.google.com/github/CarolinaNovaesGN/projeto-dataset-markt/blob/main/pysparkSQL_mini_projeto.ipynb\" target=\"_parent\"><img src=\"https://colab.research.google.com/assets/colab-badge.svg\" alt=\"Open In Colab\"/></a>"
      ]
    },
    {
      "cell_type": "markdown",
      "metadata": {
        "id": "zRfgn5mJpXk1"
      },
      "source": [
        "**Instalando e confifurando spark/sparkSQL**"
      ]
    },
    {
      "cell_type": "code",
      "metadata": {
        "colab": {
          "base_uri": "https://localhost:8080/"
        },
        "id": "B4bI7i_VoFZZ",
        "outputId": "29d78bb8-67b2-4c7c-e523-bb53c6af25fa"
      },
      "source": [
        "!pip install pyspark\n",
        "from pyspark.sql import SparkSession\n",
        "import pyspark.sql.functions as F\n",
        "from pyspark.sql.functions import *\n",
        "from pyspark.sql.window import Window as W\n",
        "spark = (SparkSession.builder\n",
        "        .master(\"local\")\n",
        "        .appName(\"mini-projeto-sql\")\n",
        "        .config(\"spark.ui.port\",\"4050\")\n",
        "        .getOrCreate())"
      ],
      "execution_count": null,
      "outputs": [
        {
          "output_type": "stream",
          "name": "stdout",
          "text": [
            "Collecting pyspark\n",
            "  Downloading pyspark-3.2.0.tar.gz (281.3 MB)\n",
            "\u001b[K     |████████████████████████████████| 281.3 MB 34 kB/s \n",
            "\u001b[?25hCollecting py4j==0.10.9.2\n",
            "  Downloading py4j-0.10.9.2-py2.py3-none-any.whl (198 kB)\n",
            "\u001b[K     |████████████████████████████████| 198 kB 49.9 MB/s \n",
            "\u001b[?25hBuilding wheels for collected packages: pyspark\n",
            "  Building wheel for pyspark (setup.py) ... \u001b[?25l\u001b[?25hdone\n",
            "  Created wheel for pyspark: filename=pyspark-3.2.0-py2.py3-none-any.whl size=281805912 sha256=c05b5644503ec503f0d6629dc6ba65b780e5589949a498a401d23c324fd9a1b4\n",
            "  Stored in directory: /root/.cache/pip/wheels/0b/de/d2/9be5d59d7331c6c2a7c1b6d1a4f463ce107332b1ecd4e80718\n",
            "Successfully built pyspark\n",
            "Installing collected packages: py4j, pyspark\n",
            "Successfully installed py4j-0.10.9.2 pyspark-3.2.0\n"
          ]
        }
      ]
    },
    {
      "cell_type": "markdown",
      "metadata": {
        "id": "yh4uvVFFpkjY"
      },
      "source": [
        "**Criando a tabela temporária para as consultas em SQL**"
      ]
    },
    {
      "cell_type": "code",
      "metadata": {
        "id": "uI78gw8OpouA"
      },
      "source": [
        "df = spark.read.format(\"csv\").option(\"inferSchema\",\"true\").option(\"header\",\"true\").option(\"sep\",\",\").load(\"/content/pysp_df_geral2.csv\").createOrReplaceTempView(\"dados_compras_table\")"
      ],
      "execution_count": null,
      "outputs": []
    },
    {
      "cell_type": "markdown",
      "metadata": {
        "id": "7yHerWetrYzv"
      },
      "source": [
        "**Visualizando a tabela**"
      ]
    },
    {
      "cell_type": "code",
      "metadata": {
        "colab": {
          "base_uri": "https://localhost:8080/",
          "height": 379
        },
        "id": "JUMzfscSrcqD",
        "outputId": "aca1febf-2a76-4649-ea32-98d466e3e63e"
      },
      "source": [
        "query='''\n",
        "SELECT *\n",
        "FROM dados_compras_table\n",
        "LIMIT 10\n",
        "'''\n",
        "spark.sql(query).toPandas()"
      ],
      "execution_count": null,
      "outputs": [
        {
          "output_type": "execute_result",
          "data": {
            "text/html": [
              "<div>\n",
              "<style scoped>\n",
              "    .dataframe tbody tr th:only-of-type {\n",
              "        vertical-align: middle;\n",
              "    }\n",
              "\n",
              "    .dataframe tbody tr th {\n",
              "        vertical-align: top;\n",
              "    }\n",
              "\n",
              "    .dataframe thead th {\n",
              "        text-align: right;\n",
              "    }\n",
              "</style>\n",
              "<table border=\"1\" class=\"dataframe\">\n",
              "  <thead>\n",
              "    <tr style=\"text-align: right;\">\n",
              "      <th></th>\n",
              "      <th>nmr_linha</th>\n",
              "      <th>id</th>\n",
              "      <th>ano_nascimento</th>\n",
              "      <th>educacao</th>\n",
              "      <th>status_conjugal</th>\n",
              "      <th>renda</th>\n",
              "      <th>criancas_casa</th>\n",
              "      <th>adolescentes_casa</th>\n",
              "      <th>data_cliente</th>\n",
              "      <th>vinhos</th>\n",
              "      <th>frutas</th>\n",
              "      <th>carne_produtos</th>\n",
              "      <th>peixe_produtos</th>\n",
              "      <th>doces_produtos</th>\n",
              "      <th>ouro_produtos</th>\n",
              "      <th>qtd_oferta_compras</th>\n",
              "      <th>qtd_web_compras</th>\n",
              "      <th>qtd_produtos_catalogo</th>\n",
              "      <th>qtd_produtos_armazenados</th>\n",
              "      <th>qtd_web_visitantes_mensal</th>\n",
              "      <th>reclamacoes</th>\n",
              "      <th>total_produtos</th>\n",
              "      <th>total_compras</th>\n",
              "      <th>ano</th>\n",
              "    </tr>\n",
              "  </thead>\n",
              "  <tbody>\n",
              "    <tr>\n",
              "      <th>0</th>\n",
              "      <td>0</td>\n",
              "      <td>5524</td>\n",
              "      <td>1957</td>\n",
              "      <td>graduacao</td>\n",
              "      <td>Solteiro</td>\n",
              "      <td>58138.0</td>\n",
              "      <td>0</td>\n",
              "      <td>0</td>\n",
              "      <td>2012-09-04</td>\n",
              "      <td>635</td>\n",
              "      <td>88</td>\n",
              "      <td>546</td>\n",
              "      <td>172</td>\n",
              "      <td>88</td>\n",
              "      <td>88</td>\n",
              "      <td>3</td>\n",
              "      <td>8</td>\n",
              "      <td>10</td>\n",
              "      <td>4</td>\n",
              "      <td>7</td>\n",
              "      <td>0</td>\n",
              "      <td>2724</td>\n",
              "      <td>33</td>\n",
              "      <td>2012</td>\n",
              "    </tr>\n",
              "    <tr>\n",
              "      <th>1</th>\n",
              "      <td>1</td>\n",
              "      <td>2174</td>\n",
              "      <td>1954</td>\n",
              "      <td>graduacao</td>\n",
              "      <td>Solteiro</td>\n",
              "      <td>46344.0</td>\n",
              "      <td>1</td>\n",
              "      <td>1</td>\n",
              "      <td>2014-03-08</td>\n",
              "      <td>11</td>\n",
              "      <td>1</td>\n",
              "      <td>6</td>\n",
              "      <td>2</td>\n",
              "      <td>1</td>\n",
              "      <td>6</td>\n",
              "      <td>2</td>\n",
              "      <td>1</td>\n",
              "      <td>1</td>\n",
              "      <td>2</td>\n",
              "      <td>5</td>\n",
              "      <td>0</td>\n",
              "      <td>54</td>\n",
              "      <td>9</td>\n",
              "      <td>2014</td>\n",
              "    </tr>\n",
              "    <tr>\n",
              "      <th>2</th>\n",
              "      <td>4</td>\n",
              "      <td>5324</td>\n",
              "      <td>1981</td>\n",
              "      <td>doutorado</td>\n",
              "      <td>Casado</td>\n",
              "      <td>58293.0</td>\n",
              "      <td>1</td>\n",
              "      <td>0</td>\n",
              "      <td>2014-01-19</td>\n",
              "      <td>173</td>\n",
              "      <td>43</td>\n",
              "      <td>118</td>\n",
              "      <td>46</td>\n",
              "      <td>27</td>\n",
              "      <td>15</td>\n",
              "      <td>5</td>\n",
              "      <td>5</td>\n",
              "      <td>3</td>\n",
              "      <td>6</td>\n",
              "      <td>5</td>\n",
              "      <td>0</td>\n",
              "      <td>645</td>\n",
              "      <td>30</td>\n",
              "      <td>2014</td>\n",
              "    </tr>\n",
              "    <tr>\n",
              "      <th>3</th>\n",
              "      <td>6</td>\n",
              "      <td>965</td>\n",
              "      <td>1971</td>\n",
              "      <td>graduacao</td>\n",
              "      <td>Divorciado</td>\n",
              "      <td>55635.0</td>\n",
              "      <td>0</td>\n",
              "      <td>1</td>\n",
              "      <td>2012-11-13</td>\n",
              "      <td>235</td>\n",
              "      <td>65</td>\n",
              "      <td>164</td>\n",
              "      <td>50</td>\n",
              "      <td>49</td>\n",
              "      <td>27</td>\n",
              "      <td>4</td>\n",
              "      <td>7</td>\n",
              "      <td>3</td>\n",
              "      <td>7</td>\n",
              "      <td>6</td>\n",
              "      <td>0</td>\n",
              "      <td>900</td>\n",
              "      <td>33</td>\n",
              "      <td>2012</td>\n",
              "    </tr>\n",
              "    <tr>\n",
              "      <th>4</th>\n",
              "      <td>7</td>\n",
              "      <td>6177</td>\n",
              "      <td>1985</td>\n",
              "      <td>doutorado</td>\n",
              "      <td>Casado</td>\n",
              "      <td>33454.0</td>\n",
              "      <td>1</td>\n",
              "      <td>0</td>\n",
              "      <td>2013-05-08</td>\n",
              "      <td>76</td>\n",
              "      <td>10</td>\n",
              "      <td>56</td>\n",
              "      <td>3</td>\n",
              "      <td>1</td>\n",
              "      <td>23</td>\n",
              "      <td>2</td>\n",
              "      <td>4</td>\n",
              "      <td>0</td>\n",
              "      <td>4</td>\n",
              "      <td>8</td>\n",
              "      <td>0</td>\n",
              "      <td>261</td>\n",
              "      <td>18</td>\n",
              "      <td>2013</td>\n",
              "    </tr>\n",
              "    <tr>\n",
              "      <th>5</th>\n",
              "      <td>11</td>\n",
              "      <td>387</td>\n",
              "      <td>1976</td>\n",
              "      <td>basico</td>\n",
              "      <td>Casado</td>\n",
              "      <td>7500.0</td>\n",
              "      <td>0</td>\n",
              "      <td>0</td>\n",
              "      <td>2012-11-13</td>\n",
              "      <td>6</td>\n",
              "      <td>16</td>\n",
              "      <td>11</td>\n",
              "      <td>11</td>\n",
              "      <td>1</td>\n",
              "      <td>16</td>\n",
              "      <td>1</td>\n",
              "      <td>2</td>\n",
              "      <td>0</td>\n",
              "      <td>3</td>\n",
              "      <td>8</td>\n",
              "      <td>0</td>\n",
              "      <td>126</td>\n",
              "      <td>9</td>\n",
              "      <td>2012</td>\n",
              "    </tr>\n",
              "    <tr>\n",
              "      <th>6</th>\n",
              "      <td>12</td>\n",
              "      <td>2125</td>\n",
              "      <td>1959</td>\n",
              "      <td>graduacao</td>\n",
              "      <td>Divorciado</td>\n",
              "      <td>63033.0</td>\n",
              "      <td>0</td>\n",
              "      <td>0</td>\n",
              "      <td>2013-11-15</td>\n",
              "      <td>194</td>\n",
              "      <td>61</td>\n",
              "      <td>480</td>\n",
              "      <td>225</td>\n",
              "      <td>112</td>\n",
              "      <td>30</td>\n",
              "      <td>1</td>\n",
              "      <td>3</td>\n",
              "      <td>4</td>\n",
              "      <td>8</td>\n",
              "      <td>2</td>\n",
              "      <td>0</td>\n",
              "      <td>2577</td>\n",
              "      <td>12</td>\n",
              "      <td>2013</td>\n",
              "    </tr>\n",
              "    <tr>\n",
              "      <th>7</th>\n",
              "      <td>13</td>\n",
              "      <td>8180</td>\n",
              "      <td>1952</td>\n",
              "      <td>mestre</td>\n",
              "      <td>Divorciado</td>\n",
              "      <td>59354.0</td>\n",
              "      <td>1</td>\n",
              "      <td>1</td>\n",
              "      <td>2013-11-15</td>\n",
              "      <td>233</td>\n",
              "      <td>2</td>\n",
              "      <td>53</td>\n",
              "      <td>3</td>\n",
              "      <td>5</td>\n",
              "      <td>14</td>\n",
              "      <td>3</td>\n",
              "      <td>6</td>\n",
              "      <td>1</td>\n",
              "      <td>5</td>\n",
              "      <td>6</td>\n",
              "      <td>0</td>\n",
              "      <td>243</td>\n",
              "      <td>27</td>\n",
              "      <td>2013</td>\n",
              "    </tr>\n",
              "    <tr>\n",
              "      <th>8</th>\n",
              "      <td>14</td>\n",
              "      <td>2569</td>\n",
              "      <td>1987</td>\n",
              "      <td>graduacao</td>\n",
              "      <td>Casado</td>\n",
              "      <td>17323.0</td>\n",
              "      <td>0</td>\n",
              "      <td>0</td>\n",
              "      <td>2012-10-10</td>\n",
              "      <td>3</td>\n",
              "      <td>14</td>\n",
              "      <td>17</td>\n",
              "      <td>6</td>\n",
              "      <td>1</td>\n",
              "      <td>5</td>\n",
              "      <td>1</td>\n",
              "      <td>1</td>\n",
              "      <td>0</td>\n",
              "      <td>3</td>\n",
              "      <td>8</td>\n",
              "      <td>0</td>\n",
              "      <td>96</td>\n",
              "      <td>6</td>\n",
              "      <td>2012</td>\n",
              "    </tr>\n",
              "    <tr>\n",
              "      <th>9</th>\n",
              "      <td>15</td>\n",
              "      <td>2114</td>\n",
              "      <td>1946</td>\n",
              "      <td>doutorado</td>\n",
              "      <td>Solteiro</td>\n",
              "      <td>82800.0</td>\n",
              "      <td>0</td>\n",
              "      <td>0</td>\n",
              "      <td>2012-11-24</td>\n",
              "      <td>1006</td>\n",
              "      <td>22</td>\n",
              "      <td>115</td>\n",
              "      <td>59</td>\n",
              "      <td>68</td>\n",
              "      <td>45</td>\n",
              "      <td>1</td>\n",
              "      <td>7</td>\n",
              "      <td>6</td>\n",
              "      <td>12</td>\n",
              "      <td>3</td>\n",
              "      <td>0</td>\n",
              "      <td>915</td>\n",
              "      <td>24</td>\n",
              "      <td>2012</td>\n",
              "    </tr>\n",
              "  </tbody>\n",
              "</table>\n",
              "</div>"
            ],
            "text/plain": [
              "   nmr_linha    id  ano_nascimento  ... total_produtos total_compras   ano\n",
              "0          0  5524            1957  ...           2724            33  2012\n",
              "1          1  2174            1954  ...             54             9  2014\n",
              "2          4  5324            1981  ...            645            30  2014\n",
              "3          6   965            1971  ...            900            33  2012\n",
              "4          7  6177            1985  ...            261            18  2013\n",
              "5         11   387            1976  ...            126             9  2012\n",
              "6         12  2125            1959  ...           2577            12  2013\n",
              "7         13  8180            1952  ...            243            27  2013\n",
              "8         14  2569            1987  ...             96             6  2012\n",
              "9         15  2114            1946  ...            915            24  2012\n",
              "\n",
              "[10 rows x 24 columns]"
            ]
          },
          "metadata": {},
          "execution_count": 81
        }
      ]
    },
    {
      "cell_type": "markdown",
      "metadata": {
        "id": "YvN_BIUitAFa"
      },
      "source": [
        "**1 - Contando quantas reclamações foram reportadas:**"
      ]
    },
    {
      "cell_type": "code",
      "metadata": {
        "colab": {
          "base_uri": "https://localhost:8080/",
          "height": 80
        },
        "id": "CYS14M9-1I8N",
        "outputId": "0c0e8988-e72f-4d22-c6c4-876168604c13"
      },
      "source": [
        "query='''\n",
        "SELECT COUNT(reclamacoes) \n",
        "AS qts_reclamacoes \n",
        "FROM dados_compras_table \n",
        "WHERE reclamacoes != 0\n",
        "'''\n",
        "spark.sql(query).toPandas()"
      ],
      "execution_count": null,
      "outputs": [
        {
          "output_type": "execute_result",
          "data": {
            "text/html": [
              "<div>\n",
              "<style scoped>\n",
              "    .dataframe tbody tr th:only-of-type {\n",
              "        vertical-align: middle;\n",
              "    }\n",
              "\n",
              "    .dataframe tbody tr th {\n",
              "        vertical-align: top;\n",
              "    }\n",
              "\n",
              "    .dataframe thead th {\n",
              "        text-align: right;\n",
              "    }\n",
              "</style>\n",
              "<table border=\"1\" class=\"dataframe\">\n",
              "  <thead>\n",
              "    <tr style=\"text-align: right;\">\n",
              "      <th></th>\n",
              "      <th>qts_reclamacoes</th>\n",
              "    </tr>\n",
              "  </thead>\n",
              "  <tbody>\n",
              "    <tr>\n",
              "      <th>0</th>\n",
              "      <td>15</td>\n",
              "    </tr>\n",
              "  </tbody>\n",
              "</table>\n",
              "</div>"
            ],
            "text/plain": [
              "   qts_reclamacoes\n",
              "0               15"
            ]
          },
          "metadata": {},
          "execution_count": 80
        }
      ]
    },
    {
      "cell_type": "markdown",
      "metadata": {
        "id": "tM3RA_cd2YzM"
      },
      "source": [
        "comparando com a quantidade de linhas da tabela"
      ]
    },
    {
      "cell_type": "code",
      "metadata": {
        "colab": {
          "base_uri": "https://localhost:8080/",
          "height": 80
        },
        "id": "iHaZrqry2YAs",
        "outputId": "774130a8-b3ed-4da6-aa0b-efec62f4bd18"
      },
      "source": [
        "query='''\n",
        "SELECT COUNT(id) \n",
        "FROM dados_compras_table\n",
        "'''\n",
        "spark.sql(query).toPandas()"
      ],
      "execution_count": null,
      "outputs": [
        {
          "output_type": "execute_result",
          "data": {
            "text/html": [
              "<div>\n",
              "<style scoped>\n",
              "    .dataframe tbody tr th:only-of-type {\n",
              "        vertical-align: middle;\n",
              "    }\n",
              "\n",
              "    .dataframe tbody tr th {\n",
              "        vertical-align: top;\n",
              "    }\n",
              "\n",
              "    .dataframe thead th {\n",
              "        text-align: right;\n",
              "    }\n",
              "</style>\n",
              "<table border=\"1\" class=\"dataframe\">\n",
              "  <thead>\n",
              "    <tr style=\"text-align: right;\">\n",
              "      <th></th>\n",
              "      <th>count(id)</th>\n",
              "    </tr>\n",
              "  </thead>\n",
              "  <tbody>\n",
              "    <tr>\n",
              "      <th>0</th>\n",
              "      <td>1634</td>\n",
              "    </tr>\n",
              "  </tbody>\n",
              "</table>\n",
              "</div>"
            ],
            "text/plain": [
              "   count(id)\n",
              "0       1634"
            ]
          },
          "metadata": {},
          "execution_count": 79
        }
      ]
    },
    {
      "cell_type": "markdown",
      "metadata": {
        "id": "9rukP1dE2_XA"
      },
      "source": [
        "Apenas 0,9 % dos clientes fizeram uma reclamação"
      ]
    },
    {
      "cell_type": "markdown",
      "metadata": {
        "id": "8kEsUCdR3KP9"
      },
      "source": [
        "**2 - Qual estado civil consome mais?**"
      ]
    },
    {
      "cell_type": "code",
      "metadata": {
        "colab": {
          "base_uri": "https://localhost:8080/",
          "height": 173
        },
        "id": "QFJeCBE73SGB",
        "outputId": "98996075-9ea6-4409-ea39-e2495dfa668f"
      },
      "source": [
        "query='''\n",
        "SELECT status_conjugal,\n",
        "sum(total_produtos)  as qtd\n",
        "FROM dados_compras_table \n",
        "group by status_conjugal\n",
        "order by qtd desc\n",
        "'''\n",
        "spark.sql(query).toPandas()"
      ],
      "execution_count": null,
      "outputs": [
        {
          "output_type": "execute_result",
          "data": {
            "text/html": [
              "<div>\n",
              "<style scoped>\n",
              "    .dataframe tbody tr th:only-of-type {\n",
              "        vertical-align: middle;\n",
              "    }\n",
              "\n",
              "    .dataframe tbody tr th {\n",
              "        vertical-align: top;\n",
              "    }\n",
              "\n",
              "    .dataframe thead th {\n",
              "        text-align: right;\n",
              "    }\n",
              "</style>\n",
              "<table border=\"1\" class=\"dataframe\">\n",
              "  <thead>\n",
              "    <tr style=\"text-align: right;\">\n",
              "      <th></th>\n",
              "      <th>status_conjugal</th>\n",
              "      <th>qtd</th>\n",
              "    </tr>\n",
              "  </thead>\n",
              "  <tbody>\n",
              "    <tr>\n",
              "      <th>0</th>\n",
              "      <td>Casado</td>\n",
              "      <td>705585</td>\n",
              "    </tr>\n",
              "    <tr>\n",
              "      <th>1</th>\n",
              "      <td>Solteiro</td>\n",
              "      <td>427116</td>\n",
              "    </tr>\n",
              "    <tr>\n",
              "      <th>2</th>\n",
              "      <td>Divorciado</td>\n",
              "      <td>185586</td>\n",
              "    </tr>\n",
              "    <tr>\n",
              "      <th>3</th>\n",
              "      <td>Viuvo</td>\n",
              "      <td>77205</td>\n",
              "    </tr>\n",
              "  </tbody>\n",
              "</table>\n",
              "</div>"
            ],
            "text/plain": [
              "  status_conjugal     qtd\n",
              "0          Casado  705585\n",
              "1        Solteiro  427116\n",
              "2      Divorciado  185586\n",
              "3           Viuvo   77205"
            ]
          },
          "metadata": {},
          "execution_count": 90
        }
      ]
    },
    {
      "cell_type": "markdown",
      "metadata": {
        "id": "hwRlbFB94J6f"
      },
      "source": [
        "Pessoas casadas são o maior público da loja."
      ]
    },
    {
      "cell_type": "markdown",
      "metadata": {
        "id": "_sIgd7Z64YCS"
      },
      "source": [
        "**3 - Cliente com a maior renda e quantos produtos ele adquiriu.**"
      ]
    },
    {
      "cell_type": "code",
      "metadata": {
        "colab": {
          "base_uri": "https://localhost:8080/",
          "height": 80
        },
        "id": "_TIhAz2l5Qms",
        "outputId": "b6c54b0a-4edd-4924-8788-a571bb42175a"
      },
      "source": [
        "query = '''\n",
        "SELECT MAX(renda) \n",
        "AS maior_renda \n",
        "FROM dados_compras_table\n",
        "'''\n",
        "spark.sql(query).toPandas()"
      ],
      "execution_count": null,
      "outputs": [
        {
          "output_type": "execute_result",
          "data": {
            "text/html": [
              "<div>\n",
              "<style scoped>\n",
              "    .dataframe tbody tr th:only-of-type {\n",
              "        vertical-align: middle;\n",
              "    }\n",
              "\n",
              "    .dataframe tbody tr th {\n",
              "        vertical-align: top;\n",
              "    }\n",
              "\n",
              "    .dataframe thead th {\n",
              "        text-align: right;\n",
              "    }\n",
              "</style>\n",
              "<table border=\"1\" class=\"dataframe\">\n",
              "  <thead>\n",
              "    <tr style=\"text-align: right;\">\n",
              "      <th></th>\n",
              "      <th>maior_renda</th>\n",
              "    </tr>\n",
              "  </thead>\n",
              "  <tbody>\n",
              "    <tr>\n",
              "      <th>0</th>\n",
              "      <td>160803.0</td>\n",
              "    </tr>\n",
              "  </tbody>\n",
              "</table>\n",
              "</div>"
            ],
            "text/plain": [
              "   maior_renda\n",
              "0     160803.0"
            ]
          },
          "metadata": {},
          "execution_count": 74
        }
      ]
    },
    {
      "cell_type": "code",
      "metadata": {
        "colab": {
          "base_uri": "https://localhost:8080/",
          "height": 100
        },
        "id": "A-Af_nfP58dR",
        "outputId": "0c3ee0d4-ad4f-4a05-b55b-99cfdd69937e"
      },
      "source": [
        "query = '''\n",
        "SELECT * \n",
        "FROM dados_compras_table \n",
        "WHERE renda = 160803 \n",
        "'''\n",
        "spark.sql(query).toPandas()"
      ],
      "execution_count": null,
      "outputs": [
        {
          "output_type": "execute_result",
          "data": {
            "text/html": [
              "<div>\n",
              "<style scoped>\n",
              "    .dataframe tbody tr th:only-of-type {\n",
              "        vertical-align: middle;\n",
              "    }\n",
              "\n",
              "    .dataframe tbody tr th {\n",
              "        vertical-align: top;\n",
              "    }\n",
              "\n",
              "    .dataframe thead th {\n",
              "        text-align: right;\n",
              "    }\n",
              "</style>\n",
              "<table border=\"1\" class=\"dataframe\">\n",
              "  <thead>\n",
              "    <tr style=\"text-align: right;\">\n",
              "      <th></th>\n",
              "      <th>nmr_linha</th>\n",
              "      <th>id</th>\n",
              "      <th>ano_nascimento</th>\n",
              "      <th>educacao</th>\n",
              "      <th>status_conjugal</th>\n",
              "      <th>renda</th>\n",
              "      <th>criancas_casa</th>\n",
              "      <th>adolescentes_casa</th>\n",
              "      <th>data_cliente</th>\n",
              "      <th>vinhos</th>\n",
              "      <th>frutas</th>\n",
              "      <th>carne_produtos</th>\n",
              "      <th>peixe_produtos</th>\n",
              "      <th>doces_produtos</th>\n",
              "      <th>ouro_produtos</th>\n",
              "      <th>qtd_oferta_compras</th>\n",
              "      <th>qtd_web_compras</th>\n",
              "      <th>qtd_produtos_catalogo</th>\n",
              "      <th>qtd_produtos_armazenados</th>\n",
              "      <th>qtd_web_visitantes_mensal</th>\n",
              "      <th>reclamacoes</th>\n",
              "      <th>total_produtos</th>\n",
              "      <th>total_compras</th>\n",
              "      <th>ano</th>\n",
              "    </tr>\n",
              "  </thead>\n",
              "  <tbody>\n",
              "    <tr>\n",
              "      <th>0</th>\n",
              "      <td>687</td>\n",
              "      <td>1501</td>\n",
              "      <td>1982</td>\n",
              "      <td>doutorado</td>\n",
              "      <td>Casado</td>\n",
              "      <td>160803.0</td>\n",
              "      <td>0</td>\n",
              "      <td>0</td>\n",
              "      <td>2012-08-04</td>\n",
              "      <td>55</td>\n",
              "      <td>16</td>\n",
              "      <td>1622</td>\n",
              "      <td>17</td>\n",
              "      <td>3</td>\n",
              "      <td>4</td>\n",
              "      <td>15</td>\n",
              "      <td>0</td>\n",
              "      <td>28</td>\n",
              "      <td>1</td>\n",
              "      <td>0</td>\n",
              "      <td>0</td>\n",
              "      <td>5025</td>\n",
              "      <td>45</td>\n",
              "      <td>2012</td>\n",
              "    </tr>\n",
              "  </tbody>\n",
              "</table>\n",
              "</div>"
            ],
            "text/plain": [
              "   nmr_linha    id  ano_nascimento  ... total_produtos total_compras   ano\n",
              "0        687  1501            1982  ...           5025            45  2012\n",
              "\n",
              "[1 rows x 24 columns]"
            ]
          },
          "metadata": {},
          "execution_count": 72
        }
      ]
    },
    {
      "cell_type": "markdown",
      "metadata": {
        "id": "fA30oRJF6jBC"
      },
      "source": [
        "**4 - IDs das 20 maiores compras**"
      ]
    },
    {
      "cell_type": "code",
      "metadata": {
        "colab": {
          "base_uri": "https://localhost:8080/",
          "height": 669
        },
        "id": "5goJwm7T6xpa",
        "outputId": "c75c82ca-eae2-43dd-829e-ff707948ed8b"
      },
      "source": [
        "\n",
        "\n",
        "query='''\n",
        "SELECT id, \n",
        "total_compras, \n",
        "ano \n",
        "FROM dados_compras_table \n",
        "ORDER BY total_compras DESC LIMIT 20\n",
        "'''\n",
        "\n",
        "\n",
        "spark.sql(query).toPandas()"
      ],
      "execution_count": null,
      "outputs": [
        {
          "output_type": "execute_result",
          "data": {
            "text/html": [
              "<div>\n",
              "<style scoped>\n",
              "    .dataframe tbody tr th:only-of-type {\n",
              "        vertical-align: middle;\n",
              "    }\n",
              "\n",
              "    .dataframe tbody tr th {\n",
              "        vertical-align: top;\n",
              "    }\n",
              "\n",
              "    .dataframe thead th {\n",
              "        text-align: right;\n",
              "    }\n",
              "</style>\n",
              "<table border=\"1\" class=\"dataframe\">\n",
              "  <thead>\n",
              "    <tr style=\"text-align: right;\">\n",
              "      <th></th>\n",
              "      <th>id</th>\n",
              "      <th>total_compras</th>\n",
              "      <th>ano</th>\n",
              "    </tr>\n",
              "  </thead>\n",
              "  <tbody>\n",
              "    <tr>\n",
              "      <th>0</th>\n",
              "      <td>4619</td>\n",
              "      <td>81</td>\n",
              "      <td>2014</td>\n",
              "    </tr>\n",
              "    <tr>\n",
              "      <th>1</th>\n",
              "      <td>10311</td>\n",
              "      <td>75</td>\n",
              "      <td>2013</td>\n",
              "    </tr>\n",
              "    <tr>\n",
              "      <th>2</th>\n",
              "      <td>6237</td>\n",
              "      <td>69</td>\n",
              "      <td>2013</td>\n",
              "    </tr>\n",
              "    <tr>\n",
              "      <th>3</th>\n",
              "      <td>3594</td>\n",
              "      <td>63</td>\n",
              "      <td>2012</td>\n",
              "    </tr>\n",
              "    <tr>\n",
              "      <th>4</th>\n",
              "      <td>8581</td>\n",
              "      <td>57</td>\n",
              "      <td>2013</td>\n",
              "    </tr>\n",
              "    <tr>\n",
              "      <th>5</th>\n",
              "      <td>531</td>\n",
              "      <td>57</td>\n",
              "      <td>2012</td>\n",
              "    </tr>\n",
              "    <tr>\n",
              "      <th>6</th>\n",
              "      <td>4478</td>\n",
              "      <td>57</td>\n",
              "      <td>2013</td>\n",
              "    </tr>\n",
              "    <tr>\n",
              "      <th>7</th>\n",
              "      <td>5207</td>\n",
              "      <td>57</td>\n",
              "      <td>2012</td>\n",
              "    </tr>\n",
              "    <tr>\n",
              "      <th>8</th>\n",
              "      <td>2408</td>\n",
              "      <td>57</td>\n",
              "      <td>2012</td>\n",
              "    </tr>\n",
              "    <tr>\n",
              "      <th>9</th>\n",
              "      <td>3678</td>\n",
              "      <td>57</td>\n",
              "      <td>2012</td>\n",
              "    </tr>\n",
              "    <tr>\n",
              "      <th>10</th>\n",
              "      <td>6892</td>\n",
              "      <td>54</td>\n",
              "      <td>2014</td>\n",
              "    </tr>\n",
              "    <tr>\n",
              "      <th>11</th>\n",
              "      <td>6439</td>\n",
              "      <td>54</td>\n",
              "      <td>2012</td>\n",
              "    </tr>\n",
              "    <tr>\n",
              "      <th>12</th>\n",
              "      <td>1456</td>\n",
              "      <td>51</td>\n",
              "      <td>2013</td>\n",
              "    </tr>\n",
              "    <tr>\n",
              "      <th>13</th>\n",
              "      <td>635</td>\n",
              "      <td>51</td>\n",
              "      <td>2013</td>\n",
              "    </tr>\n",
              "    <tr>\n",
              "      <th>14</th>\n",
              "      <td>6097</td>\n",
              "      <td>51</td>\n",
              "      <td>2013</td>\n",
              "    </tr>\n",
              "    <tr>\n",
              "      <th>15</th>\n",
              "      <td>2849</td>\n",
              "      <td>51</td>\n",
              "      <td>2013</td>\n",
              "    </tr>\n",
              "    <tr>\n",
              "      <th>16</th>\n",
              "      <td>3427</td>\n",
              "      <td>51</td>\n",
              "      <td>2013</td>\n",
              "    </tr>\n",
              "    <tr>\n",
              "      <th>17</th>\n",
              "      <td>10159</td>\n",
              "      <td>51</td>\n",
              "      <td>2013</td>\n",
              "    </tr>\n",
              "    <tr>\n",
              "      <th>18</th>\n",
              "      <td>3478</td>\n",
              "      <td>51</td>\n",
              "      <td>2013</td>\n",
              "    </tr>\n",
              "    <tr>\n",
              "      <th>19</th>\n",
              "      <td>1081</td>\n",
              "      <td>51</td>\n",
              "      <td>2013</td>\n",
              "    </tr>\n",
              "  </tbody>\n",
              "</table>\n",
              "</div>"
            ],
            "text/plain": [
              "       id  total_compras   ano\n",
              "0    4619             81  2014\n",
              "1   10311             75  2013\n",
              "2    6237             69  2013\n",
              "3    3594             63  2012\n",
              "4    8581             57  2013\n",
              "5     531             57  2012\n",
              "6    4478             57  2013\n",
              "7    5207             57  2012\n",
              "8    2408             57  2012\n",
              "9    3678             57  2012\n",
              "10   6892             54  2014\n",
              "11   6439             54  2012\n",
              "12   1456             51  2013\n",
              "13    635             51  2013\n",
              "14   6097             51  2013\n",
              "15   2849             51  2013\n",
              "16   3427             51  2013\n",
              "17  10159             51  2013\n",
              "18   3478             51  2013\n",
              "19   1081             51  2013"
            ]
          },
          "metadata": {},
          "execution_count": 40
        }
      ]
    },
    {
      "cell_type": "markdown",
      "metadata": {
        "id": "-vs6BvHD70Nt"
      },
      "source": [
        "Mais da metade das 20 maiores compras foram feitas por pessoas com nível de escolaridade: graduação"
      ]
    },
    {
      "cell_type": "markdown",
      "metadata": {
        "id": "Kx9v2YQ88MQQ"
      },
      "source": [
        "\n",
        "**5-10 Maiores compras em 2014**\n",
        "\n",
        "---\n",
        "\n"
      ]
    },
    {
      "cell_type": "code",
      "metadata": {
        "colab": {
          "base_uri": "https://localhost:8080/",
          "height": 359
        },
        "id": "PXRmj4is8LHY",
        "outputId": "fc9d0c27-4049-428d-ab28-43a4233f011e"
      },
      "source": [
        "query='''\n",
        "SELECT \n",
        " RANK() OVER (PARTITION BY ano ORDER BY total_compras Desc) as Rank,\n",
        "\n",
        " ano,\n",
        " total_compras,\n",
        " id as id\n",
        " \n",
        "FROM dados_compras_table\n",
        "WHERE ano=2014\n",
        "ORDER BY total_compras Desc  LIMIT 10\n",
        "'''\n",
        "spark.sql(query).toPandas()"
      ],
      "execution_count": null,
      "outputs": [
        {
          "output_type": "execute_result",
          "data": {
            "text/html": [
              "<div>\n",
              "<style scoped>\n",
              "    .dataframe tbody tr th:only-of-type {\n",
              "        vertical-align: middle;\n",
              "    }\n",
              "\n",
              "    .dataframe tbody tr th {\n",
              "        vertical-align: top;\n",
              "    }\n",
              "\n",
              "    .dataframe thead th {\n",
              "        text-align: right;\n",
              "    }\n",
              "</style>\n",
              "<table border=\"1\" class=\"dataframe\">\n",
              "  <thead>\n",
              "    <tr style=\"text-align: right;\">\n",
              "      <th></th>\n",
              "      <th>Rank</th>\n",
              "      <th>ano</th>\n",
              "      <th>total_compras</th>\n",
              "      <th>id</th>\n",
              "    </tr>\n",
              "  </thead>\n",
              "  <tbody>\n",
              "    <tr>\n",
              "      <th>0</th>\n",
              "      <td>1</td>\n",
              "      <td>2014</td>\n",
              "      <td>81</td>\n",
              "      <td>4619</td>\n",
              "    </tr>\n",
              "    <tr>\n",
              "      <th>1</th>\n",
              "      <td>2</td>\n",
              "      <td>2014</td>\n",
              "      <td>54</td>\n",
              "      <td>6892</td>\n",
              "    </tr>\n",
              "    <tr>\n",
              "      <th>2</th>\n",
              "      <td>3</td>\n",
              "      <td>2014</td>\n",
              "      <td>48</td>\n",
              "      <td>5136</td>\n",
              "    </tr>\n",
              "    <tr>\n",
              "      <th>3</th>\n",
              "      <td>4</td>\n",
              "      <td>2014</td>\n",
              "      <td>45</td>\n",
              "      <td>8475</td>\n",
              "    </tr>\n",
              "    <tr>\n",
              "      <th>4</th>\n",
              "      <td>4</td>\n",
              "      <td>2014</td>\n",
              "      <td>45</td>\n",
              "      <td>9931</td>\n",
              "    </tr>\n",
              "    <tr>\n",
              "      <th>5</th>\n",
              "      <td>4</td>\n",
              "      <td>2014</td>\n",
              "      <td>45</td>\n",
              "      <td>6862</td>\n",
              "    </tr>\n",
              "    <tr>\n",
              "      <th>6</th>\n",
              "      <td>7</td>\n",
              "      <td>2014</td>\n",
              "      <td>42</td>\n",
              "      <td>1584</td>\n",
              "    </tr>\n",
              "    <tr>\n",
              "      <th>7</th>\n",
              "      <td>8</td>\n",
              "      <td>2014</td>\n",
              "      <td>39</td>\n",
              "      <td>3924</td>\n",
              "    </tr>\n",
              "    <tr>\n",
              "      <th>8</th>\n",
              "      <td>8</td>\n",
              "      <td>2014</td>\n",
              "      <td>39</td>\n",
              "      <td>10846</td>\n",
              "    </tr>\n",
              "    <tr>\n",
              "      <th>9</th>\n",
              "      <td>8</td>\n",
              "      <td>2014</td>\n",
              "      <td>39</td>\n",
              "      <td>6722</td>\n",
              "    </tr>\n",
              "  </tbody>\n",
              "</table>\n",
              "</div>"
            ],
            "text/plain": [
              "   Rank   ano  total_compras     id\n",
              "0     1  2014             81   4619\n",
              "1     2  2014             54   6892\n",
              "2     3  2014             48   5136\n",
              "3     4  2014             45   8475\n",
              "4     4  2014             45   9931\n",
              "5     4  2014             45   6862\n",
              "6     7  2014             42   1584\n",
              "7     8  2014             39   3924\n",
              "8     8  2014             39  10846\n",
              "9     8  2014             39   6722"
            ]
          },
          "metadata": {},
          "execution_count": 64
        }
      ]
    },
    {
      "cell_type": "code",
      "metadata": {
        "colab": {
          "base_uri": "https://localhost:8080/",
          "height": 204
        },
        "id": "Q99BA_dQAmKw",
        "outputId": "207c1146-ecb0-47a2-cd54-cbae93ddadd7"
      },
      "source": [
        "query='''\n",
        "SELECT \n",
        "id,count(id) as quantidade\n",
        "FROM dados_compras_table\n",
        "group by id\n",
        "having quantidade=1\n",
        "'''\n",
        "spark.sql(query).limit(5).toPandas()"
      ],
      "execution_count": null,
      "outputs": [
        {
          "output_type": "execute_result",
          "data": {
            "text/html": [
              "<div>\n",
              "<style scoped>\n",
              "    .dataframe tbody tr th:only-of-type {\n",
              "        vertical-align: middle;\n",
              "    }\n",
              "\n",
              "    .dataframe tbody tr th {\n",
              "        vertical-align: top;\n",
              "    }\n",
              "\n",
              "    .dataframe thead th {\n",
              "        text-align: right;\n",
              "    }\n",
              "</style>\n",
              "<table border=\"1\" class=\"dataframe\">\n",
              "  <thead>\n",
              "    <tr style=\"text-align: right;\">\n",
              "      <th></th>\n",
              "      <th>id</th>\n",
              "      <th>quantidade</th>\n",
              "    </tr>\n",
              "  </thead>\n",
              "  <tbody>\n",
              "    <tr>\n",
              "      <th>0</th>\n",
              "      <td>6336</td>\n",
              "      <td>1</td>\n",
              "    </tr>\n",
              "    <tr>\n",
              "      <th>1</th>\n",
              "      <td>5300</td>\n",
              "      <td>1</td>\n",
              "    </tr>\n",
              "    <tr>\n",
              "      <th>2</th>\n",
              "      <td>5156</td>\n",
              "      <td>1</td>\n",
              "    </tr>\n",
              "    <tr>\n",
              "      <th>3</th>\n",
              "      <td>8086</td>\n",
              "      <td>1</td>\n",
              "    </tr>\n",
              "    <tr>\n",
              "      <th>4</th>\n",
              "      <td>6357</td>\n",
              "      <td>1</td>\n",
              "    </tr>\n",
              "  </tbody>\n",
              "</table>\n",
              "</div>"
            ],
            "text/plain": [
              "     id  quantidade\n",
              "0  6336           1\n",
              "1  5300           1\n",
              "2  5156           1\n",
              "3  8086           1\n",
              "4  6357           1"
            ]
          },
          "metadata": {},
          "execution_count": 63
        }
      ]
    },
    {
      "cell_type": "markdown",
      "metadata": {
        "id": "wxJIFqftGA8l"
      },
      "source": [
        "**6- Quantos produtos são adquiridos por compra em média?**"
      ]
    },
    {
      "cell_type": "code",
      "metadata": {
        "colab": {
          "base_uri": "https://localhost:8080/",
          "height": 204
        },
        "id": "kVmVg5icGYXX",
        "outputId": "fbe2f78d-d555-4c1e-e725-fac4feaf51ea"
      },
      "source": [
        "query='''\n",
        "SELECT\n",
        "total_produtos,\n",
        "total_compras,\n",
        "total_produtos/total_compras as media\n",
        "FROM dados_compras_table\n",
        "\n",
        "LIMIT 5\n",
        "'''\n",
        "spark.sql(query).toPandas()"
      ],
      "execution_count": null,
      "outputs": [
        {
          "output_type": "execute_result",
          "data": {
            "text/html": [
              "<div>\n",
              "<style scoped>\n",
              "    .dataframe tbody tr th:only-of-type {\n",
              "        vertical-align: middle;\n",
              "    }\n",
              "\n",
              "    .dataframe tbody tr th {\n",
              "        vertical-align: top;\n",
              "    }\n",
              "\n",
              "    .dataframe thead th {\n",
              "        text-align: right;\n",
              "    }\n",
              "</style>\n",
              "<table border=\"1\" class=\"dataframe\">\n",
              "  <thead>\n",
              "    <tr style=\"text-align: right;\">\n",
              "      <th></th>\n",
              "      <th>total_produtos</th>\n",
              "      <th>total_compras</th>\n",
              "      <th>media</th>\n",
              "    </tr>\n",
              "  </thead>\n",
              "  <tbody>\n",
              "    <tr>\n",
              "      <th>0</th>\n",
              "      <td>2724</td>\n",
              "      <td>33</td>\n",
              "      <td>82.545455</td>\n",
              "    </tr>\n",
              "    <tr>\n",
              "      <th>1</th>\n",
              "      <td>54</td>\n",
              "      <td>9</td>\n",
              "      <td>6.000000</td>\n",
              "    </tr>\n",
              "    <tr>\n",
              "      <th>2</th>\n",
              "      <td>645</td>\n",
              "      <td>30</td>\n",
              "      <td>21.500000</td>\n",
              "    </tr>\n",
              "    <tr>\n",
              "      <th>3</th>\n",
              "      <td>900</td>\n",
              "      <td>33</td>\n",
              "      <td>27.272727</td>\n",
              "    </tr>\n",
              "    <tr>\n",
              "      <th>4</th>\n",
              "      <td>261</td>\n",
              "      <td>18</td>\n",
              "      <td>14.500000</td>\n",
              "    </tr>\n",
              "  </tbody>\n",
              "</table>\n",
              "</div>"
            ],
            "text/plain": [
              "   total_produtos  total_compras      media\n",
              "0            2724             33  82.545455\n",
              "1              54              9   6.000000\n",
              "2             645             30  21.500000\n",
              "3             900             33  27.272727\n",
              "4             261             18  14.500000"
            ]
          },
          "metadata": {},
          "execution_count": 109
        }
      ]
    },
    {
      "cell_type": "markdown",
      "metadata": {
        "id": "O1yAwyRFGYp1"
      },
      "source": [
        "**7- Quem compra mais? Quem tem criança ou não?**"
      ]
    },
    {
      "cell_type": "code",
      "metadata": {
        "colab": {
          "base_uri": "https://localhost:8080/",
          "height": 142
        },
        "id": "XDi2prKzGfRv",
        "outputId": "abfd903d-f888-4196-f0b5-aef7d5360268"
      },
      "source": [
        "query='''\n",
        "SELECT criancas_casa,\n",
        "sum(total_produtos)  as qtd\n",
        "FROM dados_compras_table \n",
        "group by criancas_casa\n",
        "order by qtd desc\n",
        "'''\n",
        "spark.sql(query).toPandas()"
      ],
      "execution_count": null,
      "outputs": [
        {
          "output_type": "execute_result",
          "data": {
            "text/html": [
              "<div>\n",
              "<style scoped>\n",
              "    .dataframe tbody tr th:only-of-type {\n",
              "        vertical-align: middle;\n",
              "    }\n",
              "\n",
              "    .dataframe tbody tr th {\n",
              "        vertical-align: top;\n",
              "    }\n",
              "\n",
              "    .dataframe thead th {\n",
              "        text-align: right;\n",
              "    }\n",
              "</style>\n",
              "<table border=\"1\" class=\"dataframe\">\n",
              "  <thead>\n",
              "    <tr style=\"text-align: right;\">\n",
              "      <th></th>\n",
              "      <th>criancas_casa</th>\n",
              "      <th>qtd</th>\n",
              "    </tr>\n",
              "  </thead>\n",
              "  <tbody>\n",
              "    <tr>\n",
              "      <th>0</th>\n",
              "      <td>0</td>\n",
              "      <td>1198683</td>\n",
              "    </tr>\n",
              "    <tr>\n",
              "      <th>1</th>\n",
              "      <td>1</td>\n",
              "      <td>190068</td>\n",
              "    </tr>\n",
              "    <tr>\n",
              "      <th>2</th>\n",
              "      <td>2</td>\n",
              "      <td>6741</td>\n",
              "    </tr>\n",
              "  </tbody>\n",
              "</table>\n",
              "</div>"
            ],
            "text/plain": [
              "   criancas_casa      qtd\n",
              "0              0  1198683\n",
              "1              1   190068\n",
              "2              2     6741"
            ]
          },
          "metadata": {},
          "execution_count": 92
        }
      ]
    },
    {
      "cell_type": "markdown",
      "metadata": {
        "id": "rKfUHZptJtEq"
      },
      "source": [
        "**8 - Maiores compras de ouro**"
      ]
    },
    {
      "cell_type": "code",
      "metadata": {
        "colab": {
          "base_uri": "https://localhost:8080/",
          "height": 204
        },
        "id": "znvHvbqzJ2xj",
        "outputId": "4a907599-ca83-4e42-c8f1-2f190bc4c0d8"
      },
      "source": [
        "query='''\n",
        "SELECT id,\n",
        "ouro_produtos\n",
        "FROM dados_compras_table \n",
        "order by ouro_produtos desc\n",
        "LIMIT 5\n",
        "'''\n",
        "spark.sql(query).toPandas()"
      ],
      "execution_count": null,
      "outputs": [
        {
          "output_type": "execute_result",
          "data": {
            "text/html": [
              "<div>\n",
              "<style scoped>\n",
              "    .dataframe tbody tr th:only-of-type {\n",
              "        vertical-align: middle;\n",
              "    }\n",
              "\n",
              "    .dataframe tbody tr th {\n",
              "        vertical-align: top;\n",
              "    }\n",
              "\n",
              "    .dataframe thead th {\n",
              "        text-align: right;\n",
              "    }\n",
              "</style>\n",
              "<table border=\"1\" class=\"dataframe\">\n",
              "  <thead>\n",
              "    <tr style=\"text-align: right;\">\n",
              "      <th></th>\n",
              "      <th>id</th>\n",
              "      <th>ouro_produtos</th>\n",
              "    </tr>\n",
              "  </thead>\n",
              "  <tbody>\n",
              "    <tr>\n",
              "      <th>0</th>\n",
              "      <td>10311</td>\n",
              "      <td>321</td>\n",
              "    </tr>\n",
              "    <tr>\n",
              "      <th>1</th>\n",
              "      <td>6237</td>\n",
              "      <td>291</td>\n",
              "    </tr>\n",
              "    <tr>\n",
              "      <th>2</th>\n",
              "      <td>4246</td>\n",
              "      <td>262</td>\n",
              "    </tr>\n",
              "    <tr>\n",
              "      <th>3</th>\n",
              "      <td>10936</td>\n",
              "      <td>249</td>\n",
              "    </tr>\n",
              "    <tr>\n",
              "      <th>4</th>\n",
              "      <td>6721</td>\n",
              "      <td>248</td>\n",
              "    </tr>\n",
              "  </tbody>\n",
              "</table>\n",
              "</div>"
            ],
            "text/plain": [
              "      id  ouro_produtos\n",
              "0  10311            321\n",
              "1   6237            291\n",
              "2   4246            262\n",
              "3  10936            249\n",
              "4   6721            248"
            ]
          },
          "metadata": {},
          "execution_count": 98
        }
      ]
    },
    {
      "cell_type": "markdown",
      "metadata": {
        "id": "SpfDFYGGK0VD"
      },
      "source": [
        "**9- Qual estado civil consome mais carne?**"
      ]
    },
    {
      "cell_type": "code",
      "metadata": {
        "colab": {
          "base_uri": "https://localhost:8080/",
          "height": 173
        },
        "id": "QVPIjvwdLPmU",
        "outputId": "575c4896-e5b7-4b23-94a0-2c39019533ac"
      },
      "source": [
        "query='''\n",
        "SELECT status_conjugal,\n",
        "sum(carne_produtos)  as qtd\n",
        "FROM dados_compras_table \n",
        "group by status_conjugal\n",
        "order by qtd desc\n",
        "'''\n",
        "spark.sql(query).toPandas()"
      ],
      "execution_count": null,
      "outputs": [
        {
          "output_type": "execute_result",
          "data": {
            "text/html": [
              "<div>\n",
              "<style scoped>\n",
              "    .dataframe tbody tr th:only-of-type {\n",
              "        vertical-align: middle;\n",
              "    }\n",
              "\n",
              "    .dataframe tbody tr th {\n",
              "        vertical-align: top;\n",
              "    }\n",
              "\n",
              "    .dataframe thead th {\n",
              "        text-align: right;\n",
              "    }\n",
              "</style>\n",
              "<table border=\"1\" class=\"dataframe\">\n",
              "  <thead>\n",
              "    <tr style=\"text-align: right;\">\n",
              "      <th></th>\n",
              "      <th>status_conjugal</th>\n",
              "      <th>qtd</th>\n",
              "    </tr>\n",
              "  </thead>\n",
              "  <tbody>\n",
              "    <tr>\n",
              "      <th>0</th>\n",
              "      <td>Casado</td>\n",
              "      <td>137888</td>\n",
              "    </tr>\n",
              "    <tr>\n",
              "      <th>1</th>\n",
              "      <td>Solteiro</td>\n",
              "      <td>87059</td>\n",
              "    </tr>\n",
              "    <tr>\n",
              "      <th>2</th>\n",
              "      <td>Divorciado</td>\n",
              "      <td>34840</td>\n",
              "    </tr>\n",
              "    <tr>\n",
              "      <th>3</th>\n",
              "      <td>Viuvo</td>\n",
              "      <td>14085</td>\n",
              "    </tr>\n",
              "  </tbody>\n",
              "</table>\n",
              "</div>"
            ],
            "text/plain": [
              "  status_conjugal     qtd\n",
              "0          Casado  137888\n",
              "1        Solteiro   87059\n",
              "2      Divorciado   34840\n",
              "3           Viuvo   14085"
            ]
          },
          "metadata": {},
          "execution_count": 99
        }
      ]
    },
    {
      "cell_type": "markdown",
      "metadata": {
        "id": "mtyeb1bvMQE_"
      },
      "source": [
        "**Só tem valores 0 e 1 na coluna reclamações?**"
      ]
    },
    {
      "cell_type": "code",
      "metadata": {
        "colab": {
          "base_uri": "https://localhost:8080/",
          "height": 80
        },
        "id": "xfd1HBl2MOux",
        "outputId": "99202750-5acc-4137-f27a-3402a45fe9ed"
      },
      "source": [
        "query='''\n",
        "SELECT COUNT (DISTINCT reclamacoes)\n",
        "FROM dados_compras_table \n",
        "'''\n",
        "spark.sql(query).toPandas()"
      ],
      "execution_count": null,
      "outputs": [
        {
          "output_type": "execute_result",
          "data": {
            "text/html": [
              "<div>\n",
              "<style scoped>\n",
              "    .dataframe tbody tr th:only-of-type {\n",
              "        vertical-align: middle;\n",
              "    }\n",
              "\n",
              "    .dataframe tbody tr th {\n",
              "        vertical-align: top;\n",
              "    }\n",
              "\n",
              "    .dataframe thead th {\n",
              "        text-align: right;\n",
              "    }\n",
              "</style>\n",
              "<table border=\"1\" class=\"dataframe\">\n",
              "  <thead>\n",
              "    <tr style=\"text-align: right;\">\n",
              "      <th></th>\n",
              "      <th>count(DISTINCT reclamacoes)</th>\n",
              "    </tr>\n",
              "  </thead>\n",
              "  <tbody>\n",
              "    <tr>\n",
              "      <th>0</th>\n",
              "      <td>2</td>\n",
              "    </tr>\n",
              "  </tbody>\n",
              "</table>\n",
              "</div>"
            ],
            "text/plain": [
              "   count(DISTINCT reclamacoes)\n",
              "0                            2"
            ]
          },
          "metadata": {},
          "execution_count": 101
        }
      ]
    }
  ]
}