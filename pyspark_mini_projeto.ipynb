{
  "nbformat": 4,
  "nbformat_minor": 0,
  "metadata": {
    "colab": {
      "name": "pyspark-mini-projeto.ipynb",
      "provenance": [],
      "authorship_tag": "ABX9TyPDkLLRbHId9/tCd7X9dy42",
      "include_colab_link": true
    },
    "kernelspec": {
      "name": "python3",
      "display_name": "Python 3"
    },
    "language_info": {
      "name": "python"
    }
  },
  "cells": [
    {
      "cell_type": "markdown",
      "metadata": {
        "id": "view-in-github",
        "colab_type": "text"
      },
      "source": [
        "<a href=\"https://colab.research.google.com/github/CarolinaNovaesGN/projeto-dataset-markt/blob/main/pyspark_mini_projeto.ipynb\" target=\"_parent\"><img src=\"https://colab.research.google.com/assets/colab-badge.svg\" alt=\"Open In Colab\"/></a>"
      ]
    },
    {
      "cell_type": "markdown",
      "metadata": {
        "id": "o_ktYmm7hCIx"
      },
      "source": [
        "**Instalando pyspark**\n"
      ]
    },
    {
      "cell_type": "code",
      "metadata": {
        "id": "qsPvEzZxWSJE",
        "colab": {
          "base_uri": "https://localhost:8080/"
        },
        "outputId": "885be9b2-6585-451f-9de5-a23408881d6e"
      },
      "source": [
        "pip install pyspark"
      ],
      "execution_count": null,
      "outputs": [
        {
          "output_type": "stream",
          "name": "stdout",
          "text": [
            "Requirement already satisfied: pyspark in /usr/local/lib/python3.7/dist-packages (3.2.0)\n",
            "Requirement already satisfied: py4j==0.10.9.2 in /usr/local/lib/python3.7/dist-packages (from pyspark) (0.10.9.2)\n"
          ]
        }
      ]
    },
    {
      "cell_type": "markdown",
      "metadata": {
        "id": "NQaNUwbxhK8j"
      },
      "source": [
        "**Importanto SparkSession e outros...** "
      ]
    },
    {
      "cell_type": "code",
      "metadata": {
        "id": "s5mTnxplhRQB"
      },
      "source": [
        "from pyspark.sql import SparkSession\n",
        "import pyspark.sql.functions as F\n",
        "from pyspark.sql import *\n",
        "from pyspark.sql.types import StructType\n",
        "from pyspark.sql.types import StructField\n",
        "from pyspark.sql.types import *\n",
        "from pyspark.sql.window import Window"
      ],
      "execution_count": null,
      "outputs": []
    },
    {
      "cell_type": "markdown",
      "metadata": {
        "id": "9a9XpSwHhgpy"
      },
      "source": [
        "**Configurando SparkSession**"
      ]
    },
    {
      "cell_type": "code",
      "metadata": {
        "id": "Al3M7H5Lhn8m"
      },
      "source": [
        "spark = (SparkSession.builder\n",
        "        .master(\"local\")\n",
        "        .appName(\"mini-projeto\")\n",
        "        .config(\"spark.ui.port\",\"4050\")\n",
        "        .getOrCreate())"
      ],
      "execution_count": null,
      "outputs": []
    },
    {
      "cell_type": "markdown",
      "metadata": {
        "id": "Bl3BqflEiqXQ"
      },
      "source": [
        "**Definindo a estrutura com StructType**"
      ]
    },
    {
      "cell_type": "code",
      "metadata": {
        "id": "J8NMgSgkiwzt"
      },
      "source": [
        "schema = StructType([\n",
        "              StructField('row', IntegerType(), False),\n",
        "              StructField('ID', IntegerType(), False),\n",
        "              StructField('ano_nascimento', IntegerType(), False),\n",
        "              StructField('educacao', StringType(), False),\n",
        "              StructField('status_conjugal', StringType(), True),\n",
        "              StructField('renda', StringType(), True),\n",
        "              StructField('criancas_casa', IntegerType(), False),\n",
        "              StructField('adolescentes_casa', IntegerType(), False),\n",
        "              StructField('data_cliente', DateType(), False),\n",
        "              StructField('vinhos', IntegerType(), False),\n",
        "              StructField('frutas', IntegerType(), False),\n",
        "              StructField('carne_produtos', IntegerType(), False),\n",
        "              StructField('peixe_produtos', IntegerType(), False),\n",
        "              StructField('doces_produtos', IntegerType(), False),\n",
        "              StructField('ouro_produtos', IntegerType(), False),\n",
        "              StructField('qtd_oferta_compras', IntegerType(), False),\n",
        "              StructField('qtd_web_compras', IntegerType(), False),\n",
        "              StructField('qtd_produtos_catalogo', IntegerType(), False),\n",
        "              StructField('qtd_produtos_armazenados', IntegerType(), False),\n",
        "              StructField('qtd_web_visitantes_mensal', IntegerType(), False),\n",
        "              StructField('reclamacoes', IntegerType(), False)\n",
        "])\n",
        "\n",
        "df = spark.read.format(\"csv\").option(\"inferSchema\",\"false\").option(\"header\",\"true\").option(\"sep\",\",\").load(\"/content/pandas.csv\",schema=schema)"
      ],
      "execution_count": null,
      "outputs": []
    },
    {
      "cell_type": "code",
      "metadata": {
        "colab": {
          "base_uri": "https://localhost:8080/"
        },
        "id": "tVDE_dF1ozMs",
        "outputId": "09896eff-2483-4441-9cb7-a112d2338064"
      },
      "source": [
        "df.show()"
      ],
      "execution_count": null,
      "outputs": [
        {
          "output_type": "stream",
          "name": "stdout",
          "text": [
            "+---+----+--------------+-------------+---------------+-------+-------------+-----------------+------------+------+------+--------------+--------------+--------------+-------------+------------------+---------------+---------------------+------------------------+-------------------------+-----------+\n",
            "|row|  ID|ano_nascimento|     educacao|status_conjugal|  renda|criancas_casa|adolescentes_casa|data_cliente|vinhos|frutas|carne_produtos|peixe_produtos|doces_produtos|ouro_produtos|qtd_oferta_compras|qtd_web_compras|qtd_produtos_catalogo|qtd_produtos_armazenados|qtd_web_visitantes_mensal|reclamacoes|\n",
            "+---+----+--------------+-------------+---------------+-------+-------------+-----------------+------------+------+------+--------------+--------------+--------------+-------------+------------------+---------------+---------------------+------------------------+-------------------------+-----------+\n",
            "|  0|5524|          1957|    graduacao|       Solteiro|58138.0|            0|                0|  2012-09-04|   635|    88|           546|           172|            88|           88|                 3|              8|                   10|                       4|                        7|          0|\n",
            "|  1|2174|          1954|    graduacao|       Solteiro|46344.0|            1|                1|  2014-03-08|    11|     1|             6|             2|             1|            6|                 2|              1|                    1|                       2|                        5|          0|\n",
            "|  2|4141|          1965|    graduacao|           null|71613.0|            0|                0|  2013-08-21|   426|    49|           127|           111|            21|           42|                 1|              8|                    2|                      10|                        4|          0|\n",
            "|  3|6182|          1984|    graduacao|           null|26646.0|            1|                0|  2014-02-10|    11|     4|            20|            10|             3|            5|                 2|              2|                    0|                       4|                        6|          0|\n",
            "|  4|5324|          1981|    doutorado|         Casado|58293.0|            1|                0|  2014-01-19|   173|    43|           118|            46|            27|           15|                 5|              5|                    3|                       6|                        5|          0|\n",
            "|  5|7446|          1967|       mestre|           null|62513.0|            0|                1|  2013-09-09|   520|    42|            98|             0|            42|           14|                 2|              6|                    4|                      10|                        6|          0|\n",
            "|  6| 965|          1971|    graduacao|     Divorciado|55635.0|            0|                1|  2012-11-13|   235|    65|           164|            50|            49|           27|                 4|              7|                    3|                       7|                        6|          0|\n",
            "|  7|6177|          1985|    doutorado|         Casado|33454.0|            1|                0|  2013-05-08|    76|    10|            56|             3|             1|           23|                 2|              4|                    0|                       4|                        8|          0|\n",
            "|  8|4855|          1974|    doutorado|           null|30351.0|            1|                0|  2013-06-06|    14|     0|            24|             3|             3|            2|                 1|              3|                    0|                       2|                        9|          0|\n",
            "|  9|5899|          1950|    doutorado|           null| 5648.0|            1|                1|  2014-03-13|    28|     0|             6|             1|             1|           13|                 1|              1|                    0|                       0|                       20|          0|\n",
            "| 10|1994|          1983|    graduacao|         Casado|   null|            1|                0|  2013-11-15|     5|     5|             6|             0|             2|            1|                 1|              1|                    0|                       2|                        7|          0|\n",
            "| 11| 387|          1976|       basico|         Casado| 7500.0|            0|                0|  2012-11-13|     6|    16|            11|            11|             1|           16|                 1|              2|                    0|                       3|                        8|          0|\n",
            "| 12|2125|          1959|    graduacao|     Divorciado|63033.0|            0|                0|  2013-11-15|   194|    61|           480|           225|           112|           30|                 1|              3|                    4|                       8|                        2|          0|\n",
            "| 13|8180|          1952|       mestre|     Divorciado|59354.0|            1|                1|  2013-11-15|   233|     2|            53|             3|             5|           14|                 3|              6|                    1|                       5|                        6|          0|\n",
            "| 14|2569|          1987|    graduacao|         Casado|17323.0|            0|                0|  2012-10-10|     3|    14|            17|             6|             1|            5|                 1|              1|                    0|                       3|                        8|          0|\n",
            "| 15|2114|          1946|    doutorado|       Solteiro|82800.0|            0|                0|  2012-11-24|  1006|    22|           115|            59|            68|           45|                 1|              7|                    6|                      12|                        3|          0|\n",
            "| 16|9736|          1980|    graduacao|         Casado|41850.0|            1|                1|  2012-12-24|    53|     5|            19|             2|            13|            4|                 3|              3|                    0|                       3|                        8|          0|\n",
            "| 17|4939|          1946|    graduacao|           null|37760.0|            0|                0|  2012-08-31|    84|     5|            38|           150|            12|           28|                 2|              4|                    1|                       6|                        7|          0|\n",
            "| 18|6565|          1949|       mestre|         Casado|76995.0|            0|                1|  2013-03-28|  1012|    80|           498|             0|            16|          176|                 2|             11|                    4|                       9|                        5|          0|\n",
            "| 19|2278|          1985|segundo ciclo|       Solteiro|33812.0|            1|                0|  2012-11-03|     4|    17|            19|            30|            24|           39|                 2|              2|                    1|                       3|                        6|          0|\n",
            "+---+----+--------------+-------------+---------------+-------+-------------+-----------------+------------+------+------+--------------+--------------+--------------+-------------+------------------+---------------+---------------------+------------------------+-------------------------+-----------+\n",
            "only showing top 20 rows\n",
            "\n"
          ]
        }
      ]
    },
    {
      "cell_type": "code",
      "metadata": {
        "id": "vp4FcYHCN-pr"
      },
      "source": [
        "#filtrando ano de nascimento após ver resultados estranhos\n",
        "df = df.filter(F.col(\"ano_nascimento\") > 1930)"
      ],
      "execution_count": null,
      "outputs": []
    },
    {
      "cell_type": "code",
      "metadata": {
        "colab": {
          "base_uri": "https://localhost:8080/"
        },
        "id": "YaZC5sU_p9hG",
        "outputId": "3d995df5-ad7c-4d2a-c799-db69acd53525"
      },
      "source": [
        "df.printSchema()"
      ],
      "execution_count": null,
      "outputs": [
        {
          "output_type": "stream",
          "name": "stdout",
          "text": [
            "root\n",
            " |-- nmr_linha: integer (nullable = true)\n",
            " |-- id: integer (nullable = true)\n",
            " |-- ano_nascimento: integer (nullable = true)\n",
            " |-- educacao: string (nullable = true)\n",
            " |-- status_conjugal: string (nullable = true)\n",
            " |-- renda: string (nullable = true)\n",
            " |-- criancas_casa: integer (nullable = true)\n",
            " |-- adolescentes_casa: integer (nullable = true)\n",
            " |-- data_cliente: date (nullable = true)\n",
            " |-- vinhos: integer (nullable = true)\n",
            " |-- frutas: integer (nullable = true)\n",
            " |-- carne_produtos: integer (nullable = true)\n",
            " |-- peixe_produtos: integer (nullable = true)\n",
            " |-- doces_produtos: integer (nullable = true)\n",
            " |-- ouro_produtos: integer (nullable = true)\n",
            " |-- qtd_oferta_compras: integer (nullable = true)\n",
            " |-- qtd_web_compras: integer (nullable = true)\n",
            " |-- qtd_produtos_catalogo: integer (nullable = true)\n",
            " |-- qtd_produtos_armazenados: integer (nullable = true)\n",
            " |-- qtd_web_visitantes_mensal: integer (nullable = true)\n",
            " |-- reclamacoes: integer (nullable = true)\n",
            " |-- total_produtos: integer (nullable = true)\n",
            " |-- total_compras: integer (nullable = true)\n",
            " |-- ano: string (nullable = true)\n",
            "\n"
          ]
        }
      ]
    },
    {
      "cell_type": "markdown",
      "metadata": {
        "id": "bPw9lF2DqEHJ"
      },
      "source": [
        "**Mudando nome da primeira e segunda coluna**"
      ]
    },
    {
      "cell_type": "code",
      "metadata": {
        "id": "i8R4Ms9nrFb-"
      },
      "source": [
        "\n",
        "df = df.withColumnRenamed(\"row\",\"nmr_linha\")\n",
        "df = df.withColumnRenamed(\"ID\",\"id\")\n"
      ],
      "execution_count": null,
      "outputs": []
    },
    {
      "cell_type": "markdown",
      "metadata": {
        "id": "CV4uAgmL0qAD"
      },
      "source": [
        "**Criando novas colunas**"
      ]
    },
    {
      "cell_type": "code",
      "metadata": {
        "id": "Cj0Jw3-JtNcb"
      },
      "source": [
        "def montar_soma_colunas(termo,dataframe):\n",
        "  return '+'.join([x for x in dataframe.columns if termo in x])\n",
        "\n",
        "\n",
        "soma_produtos = montar_soma_colunas('produto',df)\n",
        "soma_compras=montar_soma_colunas('compra',df)\n",
        "df=df.withColumn('total_produtos',F.expr(soma_produtos)).withColumn('total_compras',F.expr(soma_compras))\n"
      ],
      "execution_count": null,
      "outputs": []
    },
    {
      "cell_type": "markdown",
      "metadata": {
        "id": "9KRUsmtHIUps"
      },
      "source": [
        "**Filtrando valores nulos**"
      ]
    },
    {
      "cell_type": "code",
      "metadata": {
        "colab": {
          "base_uri": "https://localhost:8080/"
        },
        "id": "puL-V2LRIUON",
        "outputId": "3fb04ba5-f68e-488f-c834-54f546ef992a"
      },
      "source": [
        "df = df.filter(F.col(\"status_conjugal\") != 'null').filter(F.col(\"renda\") != 'null')\n",
        "df.show()"
      ],
      "execution_count": null,
      "outputs": [
        {
          "output_type": "stream",
          "name": "stdout",
          "text": [
            "+---------+----+--------------+-------------+---------------+-------+-------------+-----------------+------------+------+------+--------------+--------------+--------------+-------------+------------------+---------------+---------------------+------------------------+-------------------------+-----------+--------------+-------------+----+\n",
            "|nmr_linha|  id|ano_nascimento|     educacao|status_conjugal|  renda|criancas_casa|adolescentes_casa|data_cliente|vinhos|frutas|carne_produtos|peixe_produtos|doces_produtos|ouro_produtos|qtd_oferta_compras|qtd_web_compras|qtd_produtos_catalogo|qtd_produtos_armazenados|qtd_web_visitantes_mensal|reclamacoes|total_produtos|total_compras| ano|\n",
            "+---------+----+--------------+-------------+---------------+-------+-------------+-----------------+------------+------+------+--------------+--------------+--------------+-------------+------------------+---------------+---------------------+------------------------+-------------------------+-----------+--------------+-------------+----+\n",
            "|        0|5524|          1957|    graduacao|       Solteiro|58138.0|            0|                0|  2012-09-04|   635|    88|           546|           172|            88|           88|                 3|              8|                   10|                       4|                        7|          0|          2724|           33|2012|\n",
            "|        1|2174|          1954|    graduacao|       Solteiro|46344.0|            1|                1|  2014-03-08|    11|     1|             6|             2|             1|            6|                 2|              1|                    1|                       2|                        5|          0|            54|            9|2014|\n",
            "|        4|5324|          1981|    doutorado|         Casado|58293.0|            1|                0|  2014-01-19|   173|    43|           118|            46|            27|           15|                 5|              5|                    3|                       6|                        5|          0|           645|           30|2014|\n",
            "|        6| 965|          1971|    graduacao|     Divorciado|55635.0|            0|                1|  2012-11-13|   235|    65|           164|            50|            49|           27|                 4|              7|                    3|                       7|                        6|          0|           900|           33|2012|\n",
            "|        7|6177|          1985|    doutorado|         Casado|33454.0|            1|                0|  2013-05-08|    76|    10|            56|             3|             1|           23|                 2|              4|                    0|                       4|                        8|          0|           261|           18|2013|\n",
            "|       11| 387|          1976|       basico|         Casado| 7500.0|            0|                0|  2012-11-13|     6|    16|            11|            11|             1|           16|                 1|              2|                    0|                       3|                        8|          0|           126|            9|2012|\n",
            "|       12|2125|          1959|    graduacao|     Divorciado|63033.0|            0|                0|  2013-11-15|   194|    61|           480|           225|           112|           30|                 1|              3|                    4|                       8|                        2|          0|          2577|           12|2013|\n",
            "|       13|8180|          1952|       mestre|     Divorciado|59354.0|            1|                1|  2013-11-15|   233|     2|            53|             3|             5|           14|                 3|              6|                    1|                       5|                        6|          0|           243|           27|2013|\n",
            "|       14|2569|          1987|    graduacao|         Casado|17323.0|            0|                0|  2012-10-10|     3|    14|            17|             6|             1|            5|                 1|              1|                    0|                       3|                        8|          0|            96|            6|2012|\n",
            "|       15|2114|          1946|    doutorado|       Solteiro|82800.0|            0|                0|  2012-11-24|  1006|    22|           115|            59|            68|           45|                 1|              7|                    6|                      12|                        3|          0|           915|           24|2012|\n",
            "|       16|9736|          1980|    graduacao|         Casado|41850.0|            1|                1|  2012-12-24|    53|     5|            19|             2|            13|            4|                 3|              3|                    0|                       3|                        8|          0|           123|           18|2012|\n",
            "|       18|6565|          1949|       mestre|         Casado|76995.0|            0|                1|  2013-03-28|  1012|    80|           498|             0|            16|          176|                 2|             11|                    4|                       9|                        5|          0|          2109|           39|2013|\n",
            "|       19|2278|          1985|segundo ciclo|       Solteiro|33812.0|            1|                0|  2012-11-03|     4|    17|            19|            30|            24|           39|                 2|              2|                    1|                       3|                        6|          0|           348|           12|2012|\n",
            "|       20|9360|          1982|    graduacao|         Casado|37040.0|            0|                0|  2012-08-08|    86|     2|            73|            69|            38|           48|                 1|              4|                    2|                       5|                        8|          0|           705|           15|2012|\n",
            "|       21|5376|          1979|    graduacao|         Casado| 2447.0|            1|                0|  2013-01-06|     1|     1|          1725|             1|             1|            1|                15|              0|                   28|                       0|                        1|          0|          5268|           45|2013|\n",
            "|       22|1993|          1949|    doutorado|         Casado|58607.0|            0|                1|  2012-12-23|   867|     0|            86|             0|             0|           19|                 3|              2|                    3|                       9|                        8|          0|           351|           15|2012|\n",
            "|       23|4047|          1954|    doutorado|         Casado|65324.0|            0|                1|  2014-01-11|   384|     0|           102|            21|            32|            5|                 3|              6|                    2|                       9|                        4|          0|           513|           27|2014|\n",
            "|       25|7892|          1969|    graduacao|       Solteiro|18589.0|            0|                0|  2013-01-02|     6|     4|            25|            15|            12|           13|                 2|              2|                    1|                       3|                        7|          0|           207|           12|2013|\n",
            "|       26|2404|          1976|    graduacao|         Casado|53359.0|            1|                1|  2013-05-27|   173|     4|            30|             3|             6|           41|                 4|              5|                    1|                       4|                        7|          0|           255|           27|2013|\n",
            "|       28|9422|          1989|    graduacao|         Casado|38360.0|            1|                0|  2013-05-31|    36|     2|            42|            20|            21|           10|                 2|              2|                    1|                       4|                        3|          0|           294|           12|2013|\n",
            "+---------+----+--------------+-------------+---------------+-------+-------------+-----------------+------------+------+------+--------------+--------------+--------------+-------------+------------------+---------------+---------------------+------------------------+-------------------------+-----------+--------------+-------------+----+\n",
            "only showing top 20 rows\n",
            "\n"
          ]
        }
      ]
    },
    {
      "cell_type": "markdown",
      "metadata": {
        "id": "9M1Ypi8N1Cat"
      },
      "source": [
        "**Criando uma coluna apenas com os anos das compras**"
      ]
    },
    {
      "cell_type": "code",
      "metadata": {
        "id": "q02esa212hAt"
      },
      "source": [
        "df = df.withColumn(\"ano\",F.substring(F.col(\"data_cliente\"), 1, 4))"
      ],
      "execution_count": null,
      "outputs": []
    },
    {
      "cell_type": "code",
      "metadata": {
        "colab": {
          "base_uri": "https://localhost:8080/"
        },
        "id": "esdaSdiu3b1o",
        "outputId": "7bbaf0cc-f028-4023-91c1-bcb2160d4fc1"
      },
      "source": [
        "df.write.format('csv').save('content/csv/py_df_geral2',header = True)\n",
        "df.show()"
      ],
      "execution_count": null,
      "outputs": [
        {
          "output_type": "stream",
          "name": "stdout",
          "text": [
            "+---------+----+--------------+-------------+---------------+-------+-------------+-----------------+------------+------+------+--------------+--------------+--------------+-------------+------------------+---------------+---------------------+------------------------+-------------------------+-----------+--------------+-------------+----+\n",
            "|nmr_linha|  id|ano_nascimento|     educacao|status_conjugal|  renda|criancas_casa|adolescentes_casa|data_cliente|vinhos|frutas|carne_produtos|peixe_produtos|doces_produtos|ouro_produtos|qtd_oferta_compras|qtd_web_compras|qtd_produtos_catalogo|qtd_produtos_armazenados|qtd_web_visitantes_mensal|reclamacoes|total_produtos|total_compras| ano|\n",
            "+---------+----+--------------+-------------+---------------+-------+-------------+-----------------+------------+------+------+--------------+--------------+--------------+-------------+------------------+---------------+---------------------+------------------------+-------------------------+-----------+--------------+-------------+----+\n",
            "|        0|5524|          1957|    graduacao|       Solteiro|58138.0|            0|                0|  2012-09-04|   635|    88|           546|           172|            88|           88|                 3|              8|                   10|                       4|                        7|          0|          2724|           33|2012|\n",
            "|        1|2174|          1954|    graduacao|       Solteiro|46344.0|            1|                1|  2014-03-08|    11|     1|             6|             2|             1|            6|                 2|              1|                    1|                       2|                        5|          0|            54|            9|2014|\n",
            "|        4|5324|          1981|    doutorado|         Casado|58293.0|            1|                0|  2014-01-19|   173|    43|           118|            46|            27|           15|                 5|              5|                    3|                       6|                        5|          0|           645|           30|2014|\n",
            "|        6| 965|          1971|    graduacao|     Divorciado|55635.0|            0|                1|  2012-11-13|   235|    65|           164|            50|            49|           27|                 4|              7|                    3|                       7|                        6|          0|           900|           33|2012|\n",
            "|        7|6177|          1985|    doutorado|         Casado|33454.0|            1|                0|  2013-05-08|    76|    10|            56|             3|             1|           23|                 2|              4|                    0|                       4|                        8|          0|           261|           18|2013|\n",
            "|       11| 387|          1976|       basico|         Casado| 7500.0|            0|                0|  2012-11-13|     6|    16|            11|            11|             1|           16|                 1|              2|                    0|                       3|                        8|          0|           126|            9|2012|\n",
            "|       12|2125|          1959|    graduacao|     Divorciado|63033.0|            0|                0|  2013-11-15|   194|    61|           480|           225|           112|           30|                 1|              3|                    4|                       8|                        2|          0|          2577|           12|2013|\n",
            "|       13|8180|          1952|       mestre|     Divorciado|59354.0|            1|                1|  2013-11-15|   233|     2|            53|             3|             5|           14|                 3|              6|                    1|                       5|                        6|          0|           243|           27|2013|\n",
            "|       14|2569|          1987|    graduacao|         Casado|17323.0|            0|                0|  2012-10-10|     3|    14|            17|             6|             1|            5|                 1|              1|                    0|                       3|                        8|          0|            96|            6|2012|\n",
            "|       15|2114|          1946|    doutorado|       Solteiro|82800.0|            0|                0|  2012-11-24|  1006|    22|           115|            59|            68|           45|                 1|              7|                    6|                      12|                        3|          0|           915|           24|2012|\n",
            "|       16|9736|          1980|    graduacao|         Casado|41850.0|            1|                1|  2012-12-24|    53|     5|            19|             2|            13|            4|                 3|              3|                    0|                       3|                        8|          0|           123|           18|2012|\n",
            "|       18|6565|          1949|       mestre|         Casado|76995.0|            0|                1|  2013-03-28|  1012|    80|           498|             0|            16|          176|                 2|             11|                    4|                       9|                        5|          0|          2109|           39|2013|\n",
            "|       19|2278|          1985|segundo ciclo|       Solteiro|33812.0|            1|                0|  2012-11-03|     4|    17|            19|            30|            24|           39|                 2|              2|                    1|                       3|                        6|          0|           348|           12|2012|\n",
            "|       20|9360|          1982|    graduacao|         Casado|37040.0|            0|                0|  2012-08-08|    86|     2|            73|            69|            38|           48|                 1|              4|                    2|                       5|                        8|          0|           705|           15|2012|\n",
            "|       21|5376|          1979|    graduacao|         Casado| 2447.0|            1|                0|  2013-01-06|     1|     1|          1725|             1|             1|            1|                15|              0|                   28|                       0|                        1|          0|          5268|           45|2013|\n",
            "|       22|1993|          1949|    doutorado|         Casado|58607.0|            0|                1|  2012-12-23|   867|     0|            86|             0|             0|           19|                 3|              2|                    3|                       9|                        8|          0|           351|           15|2012|\n",
            "|       23|4047|          1954|    doutorado|         Casado|65324.0|            0|                1|  2014-01-11|   384|     0|           102|            21|            32|            5|                 3|              6|                    2|                       9|                        4|          0|           513|           27|2014|\n",
            "|       25|7892|          1969|    graduacao|       Solteiro|18589.0|            0|                0|  2013-01-02|     6|     4|            25|            15|            12|           13|                 2|              2|                    1|                       3|                        7|          0|           207|           12|2013|\n",
            "|       26|2404|          1976|    graduacao|         Casado|53359.0|            1|                1|  2013-05-27|   173|     4|            30|             3|             6|           41|                 4|              5|                    1|                       4|                        7|          0|           255|           27|2013|\n",
            "|       28|9422|          1989|    graduacao|         Casado|38360.0|            1|                0|  2013-05-31|    36|     2|            42|            20|            21|           10|                 2|              2|                    1|                       4|                        3|          0|           294|           12|2013|\n",
            "+---------+----+--------------+-------------+---------------+-------+-------------+-----------------+------------+------+------+--------------+--------------+--------------+-------------+------------------+---------------+---------------------+------------------------+-------------------------+-----------+--------------+-------------+----+\n",
            "only showing top 20 rows\n",
            "\n"
          ]
        }
      ]
    },
    {
      "cell_type": "markdown",
      "metadata": {
        "id": "eOjwMy4b3EkG"
      },
      "source": [
        "**Mostrando id que não comprou nada.** "
      ]
    },
    {
      "cell_type": "code",
      "metadata": {
        "colab": {
          "base_uri": "https://localhost:8080/"
        },
        "id": "boPcs6rC7THp",
        "outputId": "bc8e0eae-126f-4f39-aefc-3c945cf472b2"
      },
      "source": [
        "df_sem_compras = df.filter(F.col(\"total_compras\")== 0)\n",
        "df_sem_compras.show() \n",
        "df_sem_compras.write.format('csv').save('content/csv/py_df_sem_compras2',header = True)"
      ],
      "execution_count": null,
      "outputs": [
        {
          "output_type": "stream",
          "name": "stdout",
          "text": [
            "+---------+-----+--------------+---------+---------------+--------+-------------+-----------------+------------+------+------+--------------+--------------+--------------+-------------+------------------+---------------+---------------------+------------------------+-------------------------+-----------+--------------+-------------+----+\n",
            "|nmr_linha|   id|ano_nascimento| educacao|status_conjugal|   renda|criancas_casa|adolescentes_casa|data_cliente|vinhos|frutas|carne_produtos|peixe_produtos|doces_produtos|ouro_produtos|qtd_oferta_compras|qtd_web_compras|qtd_produtos_catalogo|qtd_produtos_armazenados|qtd_web_visitantes_mensal|reclamacoes|total_produtos|total_compras| ano|\n",
            "+---------+-----+--------------+---------+---------------+--------+-------------+-----------------+------------+------+------+--------------+--------------+--------------+-------------+------------------+---------------+---------------------+------------------------+-------------------------+-----------+--------------+-------------+----+\n",
            "|      655| 5555|          1975|graduacao|     Divorciado|153924.0|            0|                0|  2014-02-07|     1|     1|             1|             1|             1|            1|                 0|              0|                    0|                       0|                        0|          0|            12|            0|2014|\n",
            "|      981| 3955|          1965|graduacao|     Divorciado|  4861.0|            0|                0|  2014-06-22|     2|     1|             1|             1|             0|            1|                 0|              0|                    0|                       0|                       14|          0|             9|            0|2014|\n",
            "|     1524|11110|          1973|graduacao|       Solteiro|  3502.0|            1|                0|  2013-04-13|     2|     1|             1|             0|             0|            1|                 0|              0|                    0|                       0|                       14|          0|             6|            0|2013|\n",
            "|     2132|11181|          1949|doutorado|         Casado|156924.0|            0|                0|  2013-08-29|     2|     1|             2|             1|             1|            1|                 0|              0|                    0|                       0|                        0|          0|            15|            0|2013|\n",
            "+---------+-----+--------------+---------+---------------+--------+-------------+-----------------+------------+------+------+--------------+--------------+--------------+-------------+------------------+---------------+---------------------+------------------------+-------------------------+-----------+--------------+-------------+----+\n",
            "\n"
          ]
        }
      ]
    },
    {
      "cell_type": "markdown",
      "metadata": {
        "id": "OkncO6sf9Xlg"
      },
      "source": [
        "**Mostrando quantidades de compras por ano**"
      ]
    },
    {
      "cell_type": "code",
      "metadata": {
        "colab": {
          "base_uri": "https://localhost:8080/"
        },
        "id": "X2Uy5SP8AJk5",
        "outputId": "e2bc4bcb-3691-4d60-f783-ce806f01d96d"
      },
      "source": [
        "df.printSchema()"
      ],
      "execution_count": null,
      "outputs": [
        {
          "output_type": "stream",
          "name": "stdout",
          "text": [
            "root\n",
            " |-- nmr_linha: integer (nullable = true)\n",
            " |-- id: integer (nullable = true)\n",
            " |-- ano_nascimento: integer (nullable = true)\n",
            " |-- educacao: string (nullable = true)\n",
            " |-- status_conjugal: string (nullable = true)\n",
            " |-- renda: string (nullable = true)\n",
            " |-- criancas_casa: integer (nullable = true)\n",
            " |-- adolescentes_casa: integer (nullable = true)\n",
            " |-- data_cliente: date (nullable = true)\n",
            " |-- vinhos: integer (nullable = true)\n",
            " |-- frutas: integer (nullable = true)\n",
            " |-- carne_produtos: integer (nullable = true)\n",
            " |-- peixe_produtos: integer (nullable = true)\n",
            " |-- doces_produtos: integer (nullable = true)\n",
            " |-- ouro_produtos: integer (nullable = true)\n",
            " |-- qtd_oferta_compras: integer (nullable = true)\n",
            " |-- qtd_web_compras: integer (nullable = true)\n",
            " |-- qtd_produtos_catalogo: integer (nullable = true)\n",
            " |-- qtd_produtos_armazenados: integer (nullable = true)\n",
            " |-- qtd_web_visitantes_mensal: integer (nullable = true)\n",
            " |-- reclamacoes: integer (nullable = true)\n",
            " |-- total_produtos: integer (nullable = true)\n",
            " |-- total_compras: integer (nullable = true)\n",
            " |-- ano: string (nullable = true)\n",
            "\n"
          ]
        }
      ]
    },
    {
      "cell_type": "markdown",
      "metadata": {
        "id": "XoioJjj0Cdys"
      },
      "source": [
        "**Mostrando quantidade de compras por ano**"
      ]
    },
    {
      "cell_type": "code",
      "metadata": {
        "colab": {
          "base_uri": "https://localhost:8080/"
        },
        "id": "a-OVwB-b9jDx",
        "outputId": "bb2d0c43-7587-4e34-80c5-6eecce6f594b"
      },
      "source": [
        "from pyspark.sql.functions import sum\n",
        "import pyspark.sql.functions as F\n",
        "df_qtd_compras_anual = df.groupby(F.col(\"ano\")).agg(sum(\"total_compras\").alias(\"total_compras_ano\")).orderBy(F.col('total_compras_ano').desc())\n",
        "df_qtd_compras_anual.show()\n",
        "df_qtd_compras_anual.write.format('csv').save('content/csv/py_df_qtd_compras_anual2',header = True)"
      ],
      "execution_count": null,
      "outputs": [
        {
          "output_type": "stream",
          "name": "stdout",
          "text": [
            "+----+-----------------+\n",
            "| ano|total_compras_ano|\n",
            "+----+-----------------+\n",
            "|2013|            16662|\n",
            "|2012|             8172|\n",
            "|2014|             6519|\n",
            "+----+-----------------+\n",
            "\n"
          ]
        }
      ]
    },
    {
      "cell_type": "markdown",
      "metadata": {
        "id": "ZXNTXb-UDKZP"
      },
      "source": [
        "**Mostrando a quantidade de pessoas por grau de escolaridade que realizaram alguma interação:**\n"
      ]
    },
    {
      "cell_type": "code",
      "metadata": {
        "colab": {
          "base_uri": "https://localhost:8080/"
        },
        "id": "oHip2V0jDVVk",
        "outputId": "b5dceccc-18a8-45bf-8a98-993b5bc18ca0"
      },
      "source": [
        "\n",
        "df_qtd_compras_escolaridade = df.groupby(F.col(\"educacao\")).count()\n",
        "df_qtd_compras_escolaridade.show()\n",
        "df_qtd_compras_escolaridade.write.format('csv').save('content/csv/py_df_qtd_compras_escolaridade2',header = True)"
      ],
      "execution_count": null,
      "outputs": [
        {
          "output_type": "stream",
          "name": "stdout",
          "text": [
            "+-------------+-----+\n",
            "|     educacao|count|\n",
            "+-------------+-----+\n",
            "|       basico|   40|\n",
            "|       mestre|  261|\n",
            "|    doutorado|  362|\n",
            "|segundo ciclo|  142|\n",
            "|    graduacao|  829|\n",
            "+-------------+-----+\n",
            "\n"
          ]
        }
      ]
    },
    {
      "cell_type": "markdown",
      "metadata": {
        "id": "Xohl66zOGi8e"
      },
      "source": [
        "**Média de produtos comprados anualmente**"
      ]
    },
    {
      "cell_type": "code",
      "metadata": {
        "colab": {
          "base_uri": "https://localhost:8080/"
        },
        "id": "1vM_y7G8HSJP",
        "outputId": "8187a92e-8fbe-435c-f46a-67ed7427dd64"
      },
      "source": [
        "df_media_anual_produtos = df.groupby(F.col(\"ano\")).mean(\"total_compras\")\n",
        "df_media_anual_produtos.show()\n",
        "df_media_anual_produtos.write.format('csv').save('content/csv/py_df_media_anual_produtos2',header = True)"
      ],
      "execution_count": null,
      "outputs": [
        {
          "output_type": "stream",
          "name": "stdout",
          "text": [
            "+----+------------------+\n",
            "| ano|avg(total_compras)|\n",
            "+----+------------------+\n",
            "|2012|22.574585635359117|\n",
            "|2014|15.822815533980583|\n",
            "|2013| 19.37441860465116|\n",
            "+----+------------------+\n",
            "\n"
          ]
        }
      ]
    },
    {
      "cell_type": "markdown",
      "metadata": {
        "id": "rSjewctzM3rg"
      },
      "source": [
        "**Mostrando transações que houveram reclamações**"
      ]
    },
    {
      "cell_type": "code",
      "metadata": {
        "colab": {
          "base_uri": "https://localhost:8080/"
        },
        "id": "hT_85S2kNd_Q",
        "outputId": "fbb5eb42-757f-4b8b-fd6b-48f201596bb3"
      },
      "source": [
        "df_reclamacoes = df.filter(F.col(\"reclamacoes\") != 0)\n",
        "df_reclamacoes.show()"
      ],
      "execution_count": null,
      "outputs": [
        {
          "output_type": "stream",
          "name": "stdout",
          "text": [
            "+---------+-----+--------------+-------------+---------------+-------+-------------+-----------------+------------+------+------+--------------+--------------+--------------+-------------+------------------+---------------+---------------------+------------------------+-------------------------+-----------+--------------+-------------+----+\n",
            "|nmr_linha|   id|ano_nascimento|     educacao|status_conjugal|  renda|criancas_casa|adolescentes_casa|data_cliente|vinhos|frutas|carne_produtos|peixe_produtos|doces_produtos|ouro_produtos|qtd_oferta_compras|qtd_web_compras|qtd_produtos_catalogo|qtd_produtos_armazenados|qtd_web_visitantes_mensal|reclamacoes|total_produtos|total_compras| ano|\n",
            "+---------+-----+--------------+-------------+---------------+-------+-------------+-----------------+------------+------+------+--------------+--------------+--------------+-------------+------------------+---------------+---------------------+------------------------+-------------------------+-----------+--------------+-------------+----+\n",
            "|      271| 5726|          1983|       mestre|       Solteiro|31788.0|            1|                0|  2014-03-20|    16|     7|            23|             0|             8|            6|                 3|              3|                    0|                       4|                        5|          1|           123|           18|2014|\n",
            "|      355| 6201|          1978|    graduacao|       Solteiro|38643.0|            1|                1|  2013-11-29|    22|     2|            14|             0|             1|           10|                 2|              2|                    0|                       3|                        7|          1|            84|           12|2013|\n",
            "|      358| 6142|          1943|       mestre|         Casado|65073.0|            0|                0|  2013-08-20|   629|    17|           177|            69|             0|            8|                 1|              5|                    3|                       5|                        2|          1|           786|           18|2013|\n",
            "|      590| 3710|          1984|    doutorado|       Solteiro|39684.0|            1|                0|  2012-10-12|    19|     0|            35|             6|             4|           17|                 2|              2|                    1|                       2|                        7|          1|           195|           12|2012|\n",
            "|      972|10995|          1988|segundo ciclo|         Casado|15716.0|            1|                0|  2012-11-12|    16|     5|            30|             8|             7|           26|                 3|              3|                    0|                       4|                        8|          1|           225|           18|2012|\n",
            "|     1041| 6730|          1954|    graduacao|         Casado|38998.0|            1|                1|  2012-11-03|    34|     1|            14|             0|             0|            5|                 3|              2|                    0|                       3|                        8|          1|            66|           15|2012|\n",
            "|     1069| 2875|          1978|    graduacao|         Casado|67023.0|            0|                0|  2014-03-04|   444|    44|           382|            11|             8|           17|                 1|              3|                    7|                      13|                        2|          1|          1314|           12|2014|\n",
            "|     1201| 9500|          1959|    graduacao|         Casado|58113.0|            0|                1|  2013-01-25|   221|   104|           169|           102|            78|           84|                 3|              9|                    2|                       8|                        7|          1|          1329|           36|2013|\n",
            "|     1277|10637|          1964|    graduacao|         Casado|40800.0|            1|                2|  2013-01-01|    24|     0|            27|             8|            30|           10|                 2|              3|                    0|                       3|                        7|          1|           234|           15|2013|\n",
            "|     1323|10971|          1977|    graduacao|       Solteiro|37774.0|            2|                0|  2012-09-03|   173|     8|           107|             7|             2|          176|                 4|              7|                    2|                       3|                        9|          1|           891|           33|2012|\n",
            "|     1571| 9916|          1954|    graduacao|         Casado|38998.0|            1|                1|  2012-11-03|    34|     1|            14|             0|             0|            5|                 3|              2|                    0|                       3|                        8|          1|            66|           15|2012|\n",
            "|     1720| 6742|          1979|    graduacao|         Casado|17688.0|            1|                0|  2013-01-13|     2|     2|             1|             3|             1|            2|                 1|              1|                    0|                       2|                        8|          1|            27|            6|2013|\n",
            "|     1850| 4427|          1995|segundo ciclo|       Solteiro|83257.0|            0|                0|  2012-09-18|   536|    27|           590|            38|           107|           67|                 1|              5|                   10|                      12|                        6|          1|          2472|           18|2012|\n",
            "|     1924| 7966|          1959|    graduacao|       Solteiro|80982.0|            1|                1|  2013-01-08|   505|   137|           401|           104|            22|           22|                 3|             11|                    5|                      11|                        5|          1|          1695|           42|2013|\n",
            "|     2018|  255|          1951|    graduacao|     Divorciado|22263.0|            1|                1|  2014-03-30|    17|     0|             2|             0|             0|            2|                 2|              1|                    0|                       3|                        6|          1|            21|            9|2014|\n",
            "+---------+-----+--------------+-------------+---------------+-------+-------------+-----------------+------------+------+------+--------------+--------------+--------------+-------------+------------------+---------------+---------------------+------------------------+-------------------------+-----------+--------------+-------------+----+\n",
            "\n"
          ]
        }
      ]
    },
    {
      "cell_type": "markdown",
      "metadata": {
        "id": "JRwbSqQaOqCr"
      },
      "source": [
        "**Particionando pelo ano e quantidade de compras**"
      ]
    },
    {
      "cell_type": "code",
      "metadata": {
        "id": "OpfnW7SMPJPz"
      },
      "source": [
        "w0 = Window.partitionBy(F.col(\"ano\")).orderBy(\"total_compras\")\n",
        "df_wp_number_row = df.withColumn(\"row_number\",F.row_number().over(w0))\n",
        "df_wp_number_row.write.format('csv').save('content/csv/py_df_wp_number_row2',header = True)"
      ],
      "execution_count": null,
      "outputs": []
    },
    {
      "cell_type": "markdown",
      "metadata": {
        "id": "ZS20DMNjQerE"
      },
      "source": [
        "**Fazendo rankeamento por total de compras sem ''lacunas''**"
      ]
    },
    {
      "cell_type": "code",
      "metadata": {
        "id": "8HC3jpt9Pm5k"
      },
      "source": [
        "df_rank_total_compras = df.withColumn(\"rank\",F.dense_rank().over(w0))\n",
        "df_rank_total_compras.write.format('csv').save('content/csv/py_df_rank_total_compras2',header = True)\n"
      ],
      "execution_count": null,
      "outputs": []
    },
    {
      "cell_type": "code",
      "metadata": {
        "colab": {
          "base_uri": "https://localhost:8080/",
          "height": 35
        },
        "id": "OZsmtOvthaR3",
        "outputId": "245cf983-7651-4cad-ef84-5d60a4193e31"
      },
      "source": [
        "pwd"
      ],
      "execution_count": null,
      "outputs": [
        {
          "output_type": "execute_result",
          "data": {
            "application/vnd.google.colaboratory.intrinsic+json": {
              "type": "string"
            },
            "text/plain": [
              "'/content'"
            ]
          },
          "metadata": {},
          "execution_count": 247
        }
      ]
    }
  ]
}